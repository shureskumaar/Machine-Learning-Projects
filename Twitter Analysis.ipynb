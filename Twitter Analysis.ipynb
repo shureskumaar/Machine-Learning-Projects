{
 "cells": [
  {
   "cell_type": "code",
   "execution_count": null,
   "metadata": {
    "colab": {},
    "colab_type": "code",
    "id": "Ai634BKN5C2d"
   },
   "outputs": [],
   "source": [
    "# Sentiment analysis for twitter parse"
   ]
  },
  {
   "cell_type": "code",
   "execution_count": 1,
   "metadata": {
    "colab": {},
    "colab_type": "code",
    "id": "GxXhx72z7yPx"
   },
   "outputs": [],
   "source": [
    "# import libraries\n",
    "import tweepy\n",
    "from textblob import TextBlob\n",
    "from wordcloud import WordCloud\n",
    "import pandas as pd\n",
    "import numpy as np\n",
    "import re\n",
    "import matplotlib.pyplot as plt\n",
    "plt.style.use('fivethirtyeight')"
   ]
  },
  {
   "cell_type": "code",
   "execution_count": null,
   "metadata": {
    "colab": {
     "base_uri": "https://localhost:8080/",
     "height": 77,
     "resources": {
      "http://localhost:8080/nbextensions/google.colab/files.js": {
       "data": "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",
       "headers": [
        [
         "content-type",
         "application/javascript"
        ]
       ],
       "ok": true,
       "status": 200,
       "status_text": "OK"
      }
     }
    },
    "colab_type": "code",
    "executionInfo": {
     "elapsed": 11955,
     "status": "ok",
     "timestamp": 1582819727275,
     "user": {
      "displayName": "Suresh Kumar",
      "photoUrl": "https://lh3.googleusercontent.com/a-/AAuE7mA4r-fcT_txonnm4sBVF7IxyGMzQmG_Ywob_tDGsg=s64",
      "userId": "05747314006373099731"
     },
     "user_tz": -330
    },
    "id": "li-2GSoi5WA0",
    "outputId": "2e9c1c5d-5b97-4fc3-a654-79bcec91cebf"
   },
   "outputs": [],
   "source": []
  },
  {
   "cell_type": "code",
   "execution_count": 2,
   "metadata": {
    "colab": {},
    "colab_type": "code",
    "id": "nBYDEYOC-MnX"
   },
   "outputs": [],
   "source": [
    "# load data\n",
    "log = pd.read_csv('Login.csv')"
   ]
  },
  {
   "cell_type": "code",
   "execution_count": 4,
   "metadata": {},
   "outputs": [
    {
     "data": {
      "text/html": [
       "<div>\n",
       "<style scoped>\n",
       "    .dataframe tbody tr th:only-of-type {\n",
       "        vertical-align: middle;\n",
       "    }\n",
       "\n",
       "    .dataframe tbody tr th {\n",
       "        vertical-align: top;\n",
       "    }\n",
       "\n",
       "    .dataframe thead th {\n",
       "        text-align: right;\n",
       "    }\n",
       "</style>\n",
       "<table border=\"1\" class=\"dataframe\">\n",
       "  <thead>\n",
       "    <tr style=\"text-align: right;\">\n",
       "      <th></th>\n",
       "      <th>key</th>\n",
       "    </tr>\n",
       "  </thead>\n",
       "  <tbody>\n",
       "    <tr>\n",
       "      <td>0</td>\n",
       "      <td>7g7VPBXzWOmlckeim3JS3puYs</td>\n",
       "    </tr>\n",
       "    <tr>\n",
       "      <td>1</td>\n",
       "      <td>d61MmLPQWJ2gqqeQupI5bWJfPkkVXwVhFxY3bCUU410VaY...</td>\n",
       "    </tr>\n",
       "    <tr>\n",
       "      <td>2</td>\n",
       "      <td>398725192-ExRnFewjw7lGrrB262UnYs2qXMGomshLDL5n...</td>\n",
       "    </tr>\n",
       "    <tr>\n",
       "      <td>3</td>\n",
       "      <td>V1ksIDt92IlpXG8xugLL9FljyTEQcmHDqbgPq74mokYDa</td>\n",
       "    </tr>\n",
       "  </tbody>\n",
       "</table>\n",
       "</div>"
      ],
      "text/plain": [
       "                                                 key\n",
       "0                          7g7VPBXzWOmlckeim3JS3puYs\n",
       "1  d61MmLPQWJ2gqqeQupI5bWJfPkkVXwVhFxY3bCUU410VaY...\n",
       "2  398725192-ExRnFewjw7lGrrB262UnYs2qXMGomshLDL5n...\n",
       "3      V1ksIDt92IlpXG8xugLL9FljyTEQcmHDqbgPq74mokYDa"
      ]
     },
     "execution_count": 4,
     "metadata": {},
     "output_type": "execute_result"
    }
   ],
   "source": [
    "log.head()"
   ]
  },
  {
   "cell_type": "code",
   "execution_count": 5,
   "metadata": {
    "colab": {},
    "colab_type": "code",
    "id": "By0Q5wFI-sns"
   },
   "outputs": [],
   "source": [
    "# Twitter cerdintials\n",
    "consumerKey = log['key'][0]\n",
    "consumerSecret = log['key'][1]\n",
    "accessToken = log['key'][2]\n",
    "accessTokenSecret = log['key'][3]"
   ]
  },
  {
   "cell_type": "code",
   "execution_count": 6,
   "metadata": {
    "colab": {},
    "colab_type": "code",
    "id": "vy9nLfx0AQhc"
   },
   "outputs": [],
   "source": [
    "# Create the authentication object\n",
    "authenticate = tweepy.OAuthHandler(consumerKey, consumerSecret)\n",
    "\n",
    "# Set access token and access token secret\n",
    "authenticate.set_access_token(accessToken, accessTokenSecret)\n",
    "\n",
    "# Creating the API object while passing the auth information\n",
    "api = tweepy.API(authenticate, wait_on_rate_limit = True)"
   ]
  },
  {
   "cell_type": "code",
   "execution_count": 7,
   "metadata": {
    "colab": {
     "base_uri": "https://localhost:8080/",
     "height": 276
    },
    "colab_type": "code",
    "executionInfo": {
     "elapsed": 2043,
     "status": "ok",
     "timestamp": 1582819755512,
     "user": {
      "displayName": "Suresh Kumar",
      "photoUrl": "https://lh3.googleusercontent.com/a-/AAuE7mA4r-fcT_txonnm4sBVF7IxyGMzQmG_Ywob_tDGsg=s64",
      "userId": "05747314006373099731"
     },
     "user_tz": -330
    },
    "id": "EI5ZbQJgBAL7",
    "outputId": "973252d1-7eb9-4a86-e8c7-f13f991330a6"
   },
   "outputs": [
    {
     "name": "stdout",
     "output_type": "stream",
     "text": [
      "Show the last 5 tweets: \n",
      "\n",
      "1)@conradtribble @maryamm Yes. We've been carbon neutral since 2007 (incl all our offices &amp; data centers globally), and will continue to be as we grow.\n",
      "\n",
      "2)Today I’m pleased to announce that Google will invest more than $10 billion in offices and data centers across the U.S in 2020, creating more opportunities in communities from Massachusetts to Texas. \n",
      "https://t.co/zyW4a8l52Z\n",
      "\n",
      "3)RIP Katherine Johnson, inspiring mathematician, leader and trailblazer. https://t.co/qV1XW1TAhD\n",
      "\n",
      "4)A big welcome to the winning teams of our @GoogleAI Impact Challenge visiting the Bay Area this week! Really inspiring to learn about how they're using AI for social good, addressing issues in health, education, accessibility, the environment and more. https://t.co/zZoLIQfrJh https://t.co/JzZb584k7H\n",
      "\n",
      "5)축하합니다 Bong Joon-ho and the cast of @ParasiteMovie on a historic and well-deserved win. Really enjoyed watching it 🇰🇷🎥\n",
      "\n"
     ]
    }
   ],
   "source": [
    "# Exreact 100 tweets form the twitter user\n",
    "posts = api.user_timeline(screen_name = \"sundarpichai\", count = 100, lang = \"en\", tweet_mode = \"extended\")\n",
    "\n",
    "# Print the last 5 tweets from the account\n",
    "print(\"Show the last 5 tweets: \\n\")\n",
    "i = 1\n",
    "for tweet in posts[0:5]:\n",
    "  print(str(i) + ')' + tweet.full_text + '\\n')\n",
    "  i = i+1"
   ]
  },
  {
   "cell_type": "code",
   "execution_count": 8,
   "metadata": {
    "colab": {
     "base_uri": "https://localhost:8080/",
     "height": 206
    },
    "colab_type": "code",
    "executionInfo": {
     "elapsed": 1001,
     "status": "ok",
     "timestamp": 1582819841171,
     "user": {
      "displayName": "Suresh Kumar",
      "photoUrl": "https://lh3.googleusercontent.com/a-/AAuE7mA4r-fcT_txonnm4sBVF7IxyGMzQmG_Ywob_tDGsg=s64",
      "userId": "05747314006373099731"
     },
     "user_tz": -330
    },
    "id": "2F4FHyr3G35K",
    "outputId": "e5aee6f5-6634-4009-ab5d-9a041552702a"
   },
   "outputs": [
    {
     "data": {
      "text/html": [
       "<div>\n",
       "<style scoped>\n",
       "    .dataframe tbody tr th:only-of-type {\n",
       "        vertical-align: middle;\n",
       "    }\n",
       "\n",
       "    .dataframe tbody tr th {\n",
       "        vertical-align: top;\n",
       "    }\n",
       "\n",
       "    .dataframe thead th {\n",
       "        text-align: right;\n",
       "    }\n",
       "</style>\n",
       "<table border=\"1\" class=\"dataframe\">\n",
       "  <thead>\n",
       "    <tr style=\"text-align: right;\">\n",
       "      <th></th>\n",
       "      <th>Tweets</th>\n",
       "    </tr>\n",
       "  </thead>\n",
       "  <tbody>\n",
       "    <tr>\n",
       "      <td>0</td>\n",
       "      <td>@conradtribble @maryamm Yes. We've been carbon...</td>\n",
       "    </tr>\n",
       "    <tr>\n",
       "      <td>1</td>\n",
       "      <td>Today I’m pleased to announce that Google will...</td>\n",
       "    </tr>\n",
       "    <tr>\n",
       "      <td>2</td>\n",
       "      <td>RIP Katherine Johnson, inspiring mathematician...</td>\n",
       "    </tr>\n",
       "    <tr>\n",
       "      <td>3</td>\n",
       "      <td>A big welcome to the winning teams of our @Goo...</td>\n",
       "    </tr>\n",
       "    <tr>\n",
       "      <td>4</td>\n",
       "      <td>축하합니다 Bong Joon-ho and the cast of @ParasiteMo...</td>\n",
       "    </tr>\n",
       "  </tbody>\n",
       "</table>\n",
       "</div>"
      ],
      "text/plain": [
       "                                              Tweets\n",
       "0  @conradtribble @maryamm Yes. We've been carbon...\n",
       "1  Today I’m pleased to announce that Google will...\n",
       "2  RIP Katherine Johnson, inspiring mathematician...\n",
       "3  A big welcome to the winning teams of our @Goo...\n",
       "4  축하합니다 Bong Joon-ho and the cast of @ParasiteMo..."
      ]
     },
     "execution_count": 8,
     "metadata": {},
     "output_type": "execute_result"
    }
   ],
   "source": [
    "#Create a Dataframe with a colum called tweets\n",
    "df = pd.DataFrame([tweet.full_text for tweet in posts], columns=['Tweets'])\n",
    "\n",
    "# Show the first 5 rows of data\n",
    "df.head()"
   ]
  },
  {
   "cell_type": "code",
   "execution_count": 9,
   "metadata": {
    "colab": {
     "base_uri": "https://localhost:8080/",
     "height": 424
    },
    "colab_type": "code",
    "executionInfo": {
     "elapsed": 1038,
     "status": "ok",
     "timestamp": 1582819856079,
     "user": {
      "displayName": "Suresh Kumar",
      "photoUrl": "https://lh3.googleusercontent.com/a-/AAuE7mA4r-fcT_txonnm4sBVF7IxyGMzQmG_Ywob_tDGsg=s64",
      "userId": "05747314006373099731"
     },
     "user_tz": -330
    },
    "id": "slx1ZGjARush",
    "outputId": "3bfac099-6068-4c9a-e7b8-6c521f98f973"
   },
   "outputs": [
    {
     "data": {
      "text/html": [
       "<div>\n",
       "<style scoped>\n",
       "    .dataframe tbody tr th:only-of-type {\n",
       "        vertical-align: middle;\n",
       "    }\n",
       "\n",
       "    .dataframe tbody tr th {\n",
       "        vertical-align: top;\n",
       "    }\n",
       "\n",
       "    .dataframe thead th {\n",
       "        text-align: right;\n",
       "    }\n",
       "</style>\n",
       "<table border=\"1\" class=\"dataframe\">\n",
       "  <thead>\n",
       "    <tr style=\"text-align: right;\">\n",
       "      <th></th>\n",
       "      <th>Tweets</th>\n",
       "    </tr>\n",
       "  </thead>\n",
       "  <tbody>\n",
       "    <tr>\n",
       "      <td>0</td>\n",
       "      <td>Yes. We've been carbon neutral since 2007 (i...</td>\n",
       "    </tr>\n",
       "    <tr>\n",
       "      <td>1</td>\n",
       "      <td>Today I’m pleased to announce that Google will...</td>\n",
       "    </tr>\n",
       "    <tr>\n",
       "      <td>2</td>\n",
       "      <td>RIP Katherine Johnson, inspiring mathematician...</td>\n",
       "    </tr>\n",
       "    <tr>\n",
       "      <td>3</td>\n",
       "      <td>A big welcome to the winning teams of our  Imp...</td>\n",
       "    </tr>\n",
       "    <tr>\n",
       "      <td>4</td>\n",
       "      <td>축하합니다 Bong Joon-ho and the cast of  on a histo...</td>\n",
       "    </tr>\n",
       "    <tr>\n",
       "      <td>...</td>\n",
       "      <td>...</td>\n",
       "    </tr>\n",
       "    <tr>\n",
       "      <td>95</td>\n",
       "      <td>Congrats , always admired your product focus a...</td>\n",
       "    </tr>\n",
       "    <tr>\n",
       "      <td>96</td>\n",
       "      <td>_Wiener  Thanks, _Wiener. We look forward to w...</td>\n",
       "    </tr>\n",
       "    <tr>\n",
       "      <td>97</td>\n",
       "      <td>Glad to do our part to support our future ne...</td>\n",
       "    </tr>\n",
       "    <tr>\n",
       "      <td>98</td>\n",
       "      <td>Thank you Congressman Khanna for your support...</td>\n",
       "    </tr>\n",
       "    <tr>\n",
       "      <td>99</td>\n",
       "      <td>Thanks, Governor  - we look forward to work...</td>\n",
       "    </tr>\n",
       "  </tbody>\n",
       "</table>\n",
       "<p>100 rows × 1 columns</p>\n",
       "</div>"
      ],
      "text/plain": [
       "                                               Tweets\n",
       "0     Yes. We've been carbon neutral since 2007 (i...\n",
       "1   Today I’m pleased to announce that Google will...\n",
       "2   RIP Katherine Johnson, inspiring mathematician...\n",
       "3   A big welcome to the winning teams of our  Imp...\n",
       "4   축하합니다 Bong Joon-ho and the cast of  on a histo...\n",
       "..                                                ...\n",
       "95  Congrats , always admired your product focus a...\n",
       "96  _Wiener  Thanks, _Wiener. We look forward to w...\n",
       "97    Glad to do our part to support our future ne...\n",
       "98   Thank you Congressman Khanna for your support...\n",
       "99     Thanks, Governor  - we look forward to work...\n",
       "\n",
       "[100 rows x 1 columns]"
      ]
     },
     "execution_count": 9,
     "metadata": {},
     "output_type": "execute_result"
    }
   ],
   "source": [
    "#Clean the text data\n",
    "\n",
    "#Create a function to clean the tweets\n",
    "def cleanTxt(text):\n",
    "  text = re.sub(r'@[A-Za-z0-9]+', '', text) #Removing @ symbols\n",
    "  text = re.sub(r'#', '', text) #Removing '#' symbols\n",
    "  text = re.sub(r'RT[\\s]+', '', text) #Removing RT\n",
    "  text = re.sub(r'https?:\\/\\/\\S+', '', text) #Removing hyper links\n",
    "\n",
    "  return text\n",
    "\n",
    "#Cleaning the text\n",
    "df['Tweets'] = df['Tweets'].apply(cleanTxt)\n",
    "\n",
    "#Show the cleaned text\n",
    "df"
   ]
  },
  {
   "cell_type": "code",
   "execution_count": 10,
   "metadata": {
    "colab": {},
    "colab_type": "code",
    "id": "TNGIG5l1TK_7"
   },
   "outputs": [],
   "source": [
    "# Create a function to get a Subjectivity\n",
    "def getSubjectivity(text):\n",
    "  return TextBlob(text).sentiment.subjectivity\n",
    "\n",
    "# Craete a funtion to get a Polarity\n",
    "def getPolarity(text):\n",
    "  return TextBlob(text).sentiment.polarity\n",
    "\n",
    "# Create 2 new columns\n",
    "df['Subjectivity'] = df['Tweets'].apply(getSubjectivity)\n",
    "df['Polarity'] = df['Tweets'].apply(getPolarity)"
   ]
  },
  {
   "cell_type": "code",
   "execution_count": 11,
   "metadata": {
    "colab": {
     "base_uri": "https://localhost:8080/",
     "height": 424
    },
    "colab_type": "code",
    "executionInfo": {
     "elapsed": 1801,
     "status": "ok",
     "timestamp": 1582819878124,
     "user": {
      "displayName": "Suresh Kumar",
      "photoUrl": "https://lh3.googleusercontent.com/a-/AAuE7mA4r-fcT_txonnm4sBVF7IxyGMzQmG_Ywob_tDGsg=s64",
      "userId": "05747314006373099731"
     },
     "user_tz": -330
    },
    "id": "wKM9t1HDWI5l",
    "outputId": "213459b9-0b9c-4fae-835c-d1035f5d8d3a"
   },
   "outputs": [
    {
     "data": {
      "text/html": [
       "<div>\n",
       "<style scoped>\n",
       "    .dataframe tbody tr th:only-of-type {\n",
       "        vertical-align: middle;\n",
       "    }\n",
       "\n",
       "    .dataframe tbody tr th {\n",
       "        vertical-align: top;\n",
       "    }\n",
       "\n",
       "    .dataframe thead th {\n",
       "        text-align: right;\n",
       "    }\n",
       "</style>\n",
       "<table border=\"1\" class=\"dataframe\">\n",
       "  <thead>\n",
       "    <tr style=\"text-align: right;\">\n",
       "      <th></th>\n",
       "      <th>Tweets</th>\n",
       "      <th>Subjectivity</th>\n",
       "      <th>Polarity</th>\n",
       "    </tr>\n",
       "  </thead>\n",
       "  <tbody>\n",
       "    <tr>\n",
       "      <td>0</td>\n",
       "      <td>Yes. We've been carbon neutral since 2007 (i...</td>\n",
       "      <td>0.000000</td>\n",
       "      <td>0.000000</td>\n",
       "    </tr>\n",
       "    <tr>\n",
       "      <td>1</td>\n",
       "      <td>Today I’m pleased to announce that Google will...</td>\n",
       "      <td>0.666667</td>\n",
       "      <td>0.500000</td>\n",
       "    </tr>\n",
       "    <tr>\n",
       "      <td>2</td>\n",
       "      <td>RIP Katherine Johnson, inspiring mathematician...</td>\n",
       "      <td>1.000000</td>\n",
       "      <td>0.500000</td>\n",
       "    </tr>\n",
       "    <tr>\n",
       "      <td>3</td>\n",
       "      <td>A big welcome to the winning teams of our  Imp...</td>\n",
       "      <td>0.559524</td>\n",
       "      <td>0.451190</td>\n",
       "    </tr>\n",
       "    <tr>\n",
       "      <td>4</td>\n",
       "      <td>축하합니다 Bong Joon-ho and the cast of  on a histo...</td>\n",
       "      <td>0.366667</td>\n",
       "      <td>0.433333</td>\n",
       "    </tr>\n",
       "    <tr>\n",
       "      <td>...</td>\n",
       "      <td>...</td>\n",
       "      <td>...</td>\n",
       "      <td>...</td>\n",
       "    </tr>\n",
       "    <tr>\n",
       "      <td>95</td>\n",
       "      <td>Congrats , always admired your product focus a...</td>\n",
       "      <td>0.000000</td>\n",
       "      <td>0.375000</td>\n",
       "    </tr>\n",
       "    <tr>\n",
       "      <td>96</td>\n",
       "      <td>_Wiener  Thanks, _Wiener. We look forward to w...</td>\n",
       "      <td>0.200000</td>\n",
       "      <td>0.200000</td>\n",
       "    </tr>\n",
       "    <tr>\n",
       "      <td>97</td>\n",
       "      <td>Glad to do our part to support our future ne...</td>\n",
       "      <td>0.562500</td>\n",
       "      <td>0.250000</td>\n",
       "    </tr>\n",
       "    <tr>\n",
       "      <td>98</td>\n",
       "      <td>Thank you Congressman Khanna for your support...</td>\n",
       "      <td>0.000000</td>\n",
       "      <td>0.000000</td>\n",
       "    </tr>\n",
       "    <tr>\n",
       "      <td>99</td>\n",
       "      <td>Thanks, Governor  - we look forward to work...</td>\n",
       "      <td>0.600000</td>\n",
       "      <td>0.300000</td>\n",
       "    </tr>\n",
       "  </tbody>\n",
       "</table>\n",
       "<p>100 rows × 3 columns</p>\n",
       "</div>"
      ],
      "text/plain": [
       "                                               Tweets  Subjectivity  Polarity\n",
       "0     Yes. We've been carbon neutral since 2007 (i...      0.000000  0.000000\n",
       "1   Today I’m pleased to announce that Google will...      0.666667  0.500000\n",
       "2   RIP Katherine Johnson, inspiring mathematician...      1.000000  0.500000\n",
       "3   A big welcome to the winning teams of our  Imp...      0.559524  0.451190\n",
       "4   축하합니다 Bong Joon-ho and the cast of  on a histo...      0.366667  0.433333\n",
       "..                                                ...           ...       ...\n",
       "95  Congrats , always admired your product focus a...      0.000000  0.375000\n",
       "96  _Wiener  Thanks, _Wiener. We look forward to w...      0.200000  0.200000\n",
       "97    Glad to do our part to support our future ne...      0.562500  0.250000\n",
       "98   Thank you Congressman Khanna for your support...      0.000000  0.000000\n",
       "99     Thanks, Governor  - we look forward to work...      0.600000  0.300000\n",
       "\n",
       "[100 rows x 3 columns]"
      ]
     },
     "execution_count": 11,
     "metadata": {},
     "output_type": "execute_result"
    }
   ],
   "source": [
    "# Show the new dataframes with new columns\n",
    "df"
   ]
  },
  {
   "cell_type": "code",
   "execution_count": 12,
   "metadata": {
    "colab": {
     "base_uri": "https://localhost:8080/",
     "height": 256
    },
    "colab_type": "code",
    "executionInfo": {
     "elapsed": 2315,
     "status": "ok",
     "timestamp": 1582820558477,
     "user": {
      "displayName": "Suresh Kumar",
      "photoUrl": "https://lh3.googleusercontent.com/a-/AAuE7mA4r-fcT_txonnm4sBVF7IxyGMzQmG_Ywob_tDGsg=s64",
      "userId": "05747314006373099731"
     },
     "user_tz": -330
    },
    "id": "TuEbDHy_bmb_",
    "outputId": "1731ded7-c5d8-4a70-ee30-a298ceec1b03"
   },
   "outputs": [
    {
     "data": {
      "image/png": "[encoded data removed]",
      "text/plain": [
       "<Figure size 432x288 with 1 Axes>"
      ]
     },
     "metadata": {
      "needs_background": "light"
     },
     "output_type": "display_data"
    }
   ],
   "source": [
    "# Plot the word colud\n",
    "allWords = ' '.join( [twts for twts in df['Tweets']] )\n",
    "wordCloud = WordCloud(width=500, height=300, random_state=21, max_font_size=119).generate(allWords)\n",
    "\n",
    "plt.imshow(wordCloud, interpolation= 'bilinear')\n",
    "plt.axis('off')\n",
    "plt.show()"
   ]
  },
  {
   "cell_type": "code",
   "execution_count": 13,
   "metadata": {
    "colab": {
     "base_uri": "https://localhost:8080/",
     "height": 424
    },
    "colab_type": "code",
    "executionInfo": {
     "elapsed": 1071,
     "status": "ok",
     "timestamp": 1582821599935,
     "user": {
      "displayName": "Suresh Kumar",
      "photoUrl": "https://lh3.googleusercontent.com/a-/AAuE7mA4r-fcT_txonnm4sBVF7IxyGMzQmG_Ywob_tDGsg=s64",
      "userId": "05747314006373099731"
     },
     "user_tz": -330
    },
    "id": "XgmCs-DjfvS3",
    "outputId": "6a130356-f92d-4459-c9bf-08f9403364cd"
   },
   "outputs": [
    {
     "data": {
      "text/html": [
       "<div>\n",
       "<style scoped>\n",
       "    .dataframe tbody tr th:only-of-type {\n",
       "        vertical-align: middle;\n",
       "    }\n",
       "\n",
       "    .dataframe tbody tr th {\n",
       "        vertical-align: top;\n",
       "    }\n",
       "\n",
       "    .dataframe thead th {\n",
       "        text-align: right;\n",
       "    }\n",
       "</style>\n",
       "<table border=\"1\" class=\"dataframe\">\n",
       "  <thead>\n",
       "    <tr style=\"text-align: right;\">\n",
       "      <th></th>\n",
       "      <th>Tweets</th>\n",
       "      <th>Subjectivity</th>\n",
       "      <th>Polarity</th>\n",
       "      <th>Analysis</th>\n",
       "    </tr>\n",
       "  </thead>\n",
       "  <tbody>\n",
       "    <tr>\n",
       "      <td>0</td>\n",
       "      <td>Yes. We've been carbon neutral since 2007 (i...</td>\n",
       "      <td>0.000000</td>\n",
       "      <td>0.000000</td>\n",
       "      <td>Neutral</td>\n",
       "    </tr>\n",
       "    <tr>\n",
       "      <td>1</td>\n",
       "      <td>Today I’m pleased to announce that Google will...</td>\n",
       "      <td>0.666667</td>\n",
       "      <td>0.500000</td>\n",
       "      <td>Positive</td>\n",
       "    </tr>\n",
       "    <tr>\n",
       "      <td>2</td>\n",
       "      <td>RIP Katherine Johnson, inspiring mathematician...</td>\n",
       "      <td>1.000000</td>\n",
       "      <td>0.500000</td>\n",
       "      <td>Positive</td>\n",
       "    </tr>\n",
       "    <tr>\n",
       "      <td>3</td>\n",
       "      <td>A big welcome to the winning teams of our  Imp...</td>\n",
       "      <td>0.559524</td>\n",
       "      <td>0.451190</td>\n",
       "      <td>Positive</td>\n",
       "    </tr>\n",
       "    <tr>\n",
       "      <td>4</td>\n",
       "      <td>축하합니다 Bong Joon-ho and the cast of  on a histo...</td>\n",
       "      <td>0.366667</td>\n",
       "      <td>0.433333</td>\n",
       "      <td>Positive</td>\n",
       "    </tr>\n",
       "    <tr>\n",
       "      <td>...</td>\n",
       "      <td>...</td>\n",
       "      <td>...</td>\n",
       "      <td>...</td>\n",
       "      <td>...</td>\n",
       "    </tr>\n",
       "    <tr>\n",
       "      <td>95</td>\n",
       "      <td>Congrats , always admired your product focus a...</td>\n",
       "      <td>0.000000</td>\n",
       "      <td>0.375000</td>\n",
       "      <td>Positive</td>\n",
       "    </tr>\n",
       "    <tr>\n",
       "      <td>96</td>\n",
       "      <td>_Wiener  Thanks, _Wiener. We look forward to w...</td>\n",
       "      <td>0.200000</td>\n",
       "      <td>0.200000</td>\n",
       "      <td>Positive</td>\n",
       "    </tr>\n",
       "    <tr>\n",
       "      <td>97</td>\n",
       "      <td>Glad to do our part to support our future ne...</td>\n",
       "      <td>0.562500</td>\n",
       "      <td>0.250000</td>\n",
       "      <td>Positive</td>\n",
       "    </tr>\n",
       "    <tr>\n",
       "      <td>98</td>\n",
       "      <td>Thank you Congressman Khanna for your support...</td>\n",
       "      <td>0.000000</td>\n",
       "      <td>0.000000</td>\n",
       "      <td>Neutral</td>\n",
       "    </tr>\n",
       "    <tr>\n",
       "      <td>99</td>\n",
       "      <td>Thanks, Governor  - we look forward to work...</td>\n",
       "      <td>0.600000</td>\n",
       "      <td>0.300000</td>\n",
       "      <td>Positive</td>\n",
       "    </tr>\n",
       "  </tbody>\n",
       "</table>\n",
       "<p>100 rows × 4 columns</p>\n",
       "</div>"
      ],
      "text/plain": [
       "                                               Tweets  Subjectivity  Polarity  \\\n",
       "0     Yes. We've been carbon neutral since 2007 (i...      0.000000  0.000000   \n",
       "1   Today I’m pleased to announce that Google will...      0.666667  0.500000   \n",
       "2   RIP Katherine Johnson, inspiring mathematician...      1.000000  0.500000   \n",
       "3   A big welcome to the winning teams of our  Imp...      0.559524  0.451190   \n",
       "4   축하합니다 Bong Joon-ho and the cast of  on a histo...      0.366667  0.433333   \n",
       "..                                                ...           ...       ...   \n",
       "95  Congrats , always admired your product focus a...      0.000000  0.375000   \n",
       "96  _Wiener  Thanks, _Wiener. We look forward to w...      0.200000  0.200000   \n",
       "97    Glad to do our part to support our future ne...      0.562500  0.250000   \n",
       "98   Thank you Congressman Khanna for your support...      0.000000  0.000000   \n",
       "99     Thanks, Governor  - we look forward to work...      0.600000  0.300000   \n",
       "\n",
       "    Analysis  \n",
       "0    Neutral  \n",
       "1   Positive  \n",
       "2   Positive  \n",
       "3   Positive  \n",
       "4   Positive  \n",
       "..       ...  \n",
       "95  Positive  \n",
       "96  Positive  \n",
       "97  Positive  \n",
       "98   Neutral  \n",
       "99  Positive  \n",
       "\n",
       "[100 rows x 4 columns]"
      ]
     },
     "execution_count": 13,
     "metadata": {},
     "output_type": "execute_result"
    }
   ],
   "source": [
    "# Create a function to compute the negative, neutral and positive analysis\n",
    "def getAnalysis(score):\n",
    "  if score < 0:\n",
    "    return 'Negative'\n",
    "  elif score == 0:\n",
    "    return 'Neutral'\n",
    "  else:\n",
    "    return 'Positive'\n",
    "\n",
    "df['Analysis'] = df['Polarity'].apply(getAnalysis)\n",
    "\n",
    "# Show the dataframe\n",
    "df"
   ]
  },
  {
   "cell_type": "code",
   "execution_count": 14,
   "metadata": {
    "colab": {
     "base_uri": "https://localhost:8080/",
     "height": 1000
    },
    "colab_type": "code",
    "executionInfo": {
     "elapsed": 2971,
     "status": "ok",
     "timestamp": 1582822346820,
     "user": {
      "displayName": "Suresh Kumar",
      "photoUrl": "https://lh3.googleusercontent.com/a-/AAuE7mA4r-fcT_txonnm4sBVF7IxyGMzQmG_Ywob_tDGsg=s64",
      "userId": "05747314006373099731"
     },
     "user_tz": -330
    },
    "id": "7eZe8k3ii9fT",
    "outputId": "541baf8c-9e3f-4c9c-ccf7-0544e7aa2cc1"
   },
   "outputs": [
    {
     "name": "stdout",
     "output_type": "stream",
     "text": [
      "1) Today I’m pleased to announce that Google will invest more than $10 billion in offices and data centers across the U.S in 2020, creating more opportunities in communities from Massachusetts to Texas. \n",
      "\n",
      "\n",
      "2) RIP Katherine Johnson, inspiring mathematician, leader and trailblazer. \n",
      "\n",
      "3) A big welcome to the winning teams of our  Impact Challenge visiting the Bay Area this week! Really inspiring to learn about how they're using AI for social good, addressing issues in health, education, accessibility, the environment and more.  \n",
      "\n",
      "4) 축하합니다 Bong Joon-ho and the cast of  on a historic and well-deserved win. Really enjoyed watching it 🇰🇷🎥\n",
      "\n",
      "5) We’re proud to invest in products &amp; partnerships that help people in Europe succeed. Our new economic impact report estimates that Google’s tools created €177B in economic activity for businesses, developers, creators &amp; publishers across Europe in 2019. \n",
      "\n",
      "\n",
      "6)   Thanks,  had a lot to do with this:)\n",
      "\n",
      "7) Happy 15th Birthday ! Reflecting today on some of the ways it’s been helpful to me, from getting around more easily to finding a good veggie burrito wherever I am:) Thanks to the support of our users, Maps keeps getting more helpful every day.\n",
      "\n",
      "\n",
      "8) This Black History Month, we’ll be celebrating some of the most-searched moments &amp; individuals in America. We’re also making a $3M  grant to the  ACT-SO program, supporting future history makers in STEM, humanities, business &amp; the arts. \n",
      "\n",
      "9) Wishing each other happiness and prosperity for Lunar New Year!\n",
      "\n",
      "Today's GoogleDoodle depicts the ancient legend of the race that earned the rat its premier spot in the calendar → \n",
      "\n",
      "10) Visited  in Brussels, Belgium today - proud we’re supporting them with a new  grant to expand their coding school and increase the community’s access to new digital skills training in AI, data analytics and more.  \n",
      "\n",
      "11) \"At the center of nonviolence stands the principle of love.\" Today we honor the life and legacy of Dr. Martin Luther King, Jr. MLKDay \n",
      "\n",
      "\n",
      "12) Great to see the bipartisan support &amp; leadership across government to pass the USMCA. It’s the right step forward to help bring the opportunities of digital trade to everyone.\n",
      "\n",
      "13) 500K+ job openings in the US require proficiency in Python: our new GrowWithGoogle IT Professional Certificate will focus on Python skills, and  will fund scholarships to communities underrepresented in tech. \n",
      "\n",
      "\n",
      "14) The Advanced Protection Program is our strongest level of security for Google Accounts. Today, we’re simplifying the enrollment process for everyone, and enabling iPhones in addition to Android phones to be used as security keys. \n",
      "\n",
      "15) Nice recap from  of our Google Research efforts in 2019 \n",
      "\n",
      "16) : Happy New Year! Our latest research, in collaboration with , has been published in  today, demonstratin…\n",
      "\n",
      "17) Looking forward to a new year and a new decade ahead - wishing everyone a very happy 2020 \n",
      "\n",
      "\n",
      "18)   Congrats ! So well deserved, very excited for you:)\n",
      "\n",
      "19) This week at our Google4MENA event in Dubai, we announced new products &amp; services for Middle East and North Africa, including the Google Assistant in Arabic in 15 new countries and expanded digital skills training to reach another 100,000 people in 2020. \n",
      "\n",
      "20) To help keep you safe online,  will now warn if your username &amp; password have been compromised when you type them into a website. We’re also enhancing phishing protections to be real-time on desktop to alert you when visiting malicious sites. \n",
      "\n",
      "21) I’m thrilled to welcome  to the Alphabet Board of Directors. Frances brings incredible academic and industry expertise with a career spanning chemistry, engineering, renewable energy and more -- and a Nobel Prize in Chemistry. Looking forward to working with her!\n",
      "\n",
      "22)  Thank you so much, Eric!\n",
      "\n",
      "23)  Thanks, Max:)\n",
      "\n",
      "24)  Thank you, Harsha:)\n",
      "\n",
      "25)  Thanks Miguel!\n",
      "\n",
      "26)  Thanks, Elad\n",
      "\n",
      "27)   Thanks so much, Bret:)\n",
      "\n",
      "28)  Mahalo. More likely Benioff 2020:)\n",
      "\n",
      "29) I’m excited about Alphabet’s long term focus on tackling big challenges through technology. Thanks to Larry &amp; Sergey, we have a timeless mission, enduring values and a culture of collaboration &amp; exploration - a strong foundation we’ll continue to build on \n",
      "\n",
      "30) We strive to make our products helpful and accessible for everyone. Starting today, there will be American Sign Language specialists to help those who are deaf or hard-of-hearing when they need support for Google products. IDPD \n",
      "\n",
      "31) We’re proud to be among the many companies supporting the  and their work to ensure that the web remains safe and built for everyone. \n",
      "\n",
      "32) Well said and so inspiring! \n",
      "\n",
      "33) Tonight we unveiled the new  Campus in Tokyo, co-located with our new office in Shibuya to give the newest generation of Japanese entrepreneurs the space and support they need to grow.  \n",
      "\n",
      "34) Greetings from Tokyo! Celebrating the opening of our new office in Shibuya with a traditional sake barrel breaking ceremony \n",
      "\n",
      "35)   Thank you  for joining us as we open our 2nd office in Chicago to make room for our growing teams! We’re also proud to partner with  to offer free GrowWithGoogle training and tools to local businesses in the community.\n",
      "\n",
      "36)   Thank you  for the warm welcome and for joining us at the opening of our new data center in Clarksville, Tennessee - we're happy to call Montgomery County home!\n",
      "\n",
      "37) : Tonight are the breakthroughprize2020 live streamed on  7 pm PST. Excited to see scientific discoveries celebra…\n",
      "\n",
      "38) We're proud to support accessible &amp; inclusive housing as part of our commitment to Bay Area housing: we're making a $5.3M investment in  to help build a new housing community for people of all incomes and all abilities in San Jose. \n",
      "\n",
      "\n",
      "39) Since 2001, we’ve been proud to be a part of Atlanta’s growing tech sector. Today we’re excited to break ground on a bigger office, and to announce a $1M Impact Challenge for Georgia to support orgs working to create opportunity for people across the state\n",
      "\n",
      "\n",
      "40) In honor of First Responders Day, we salute all of the first responders who help others in need every day. Especially thankful today for the firefighters risking their lives battling the wildfires across California to keep us all safe.\n",
      "\n",
      "\n",
      "41) : Deep learning improving our sense of the world!  A nose by any other name would smell as sweet. \n",
      "\n",
      "42) Thanks  for a great conversation - really enjoyed chatting about what this milestone means to Google, and how quantum computing can impact the way we understand the world around us in the future \n",
      "\n",
      "43) Excited about what quantum computing means for the future - it gives us another way to speak the language of the universe and better understand the world, not just in 1s and 0s but in all of its states: beautiful, complex, and with limitless possibility. \n",
      "\n",
      "44) Very proud that our  team has achieved a big breakthrough in quantum computing known as quantum supremacy after over a decade of work, as published in . Thank you to our collaborators in the research community who helped make this possible.\n",
      "\n",
      "\n",
      "45) Very inspiring to see the historic AllWomanSpacewalk - hopefully just the first of many to come. Congrats _Christina and _Jessica on your success today!\n",
      "\n",
      "46) Very excited to introduce our latest family of MadebyGoogle hardware: Pixel 4, Nest Mini, Nest Wifi, Pixelbook Go &amp; Pixel Buds - all designed to work together for a seamless, consistent experience, helping you whether you're at home or on the go. \n",
      "\n",
      "47) Today we’re kicking off our 3rd ImpactChallengeBayArea: we’ll donate $10M in grants to 35 nonprofits working to improve our communities. Excited to see the ideas that will come up and look forward to the progress we can make together in the Bay Area.\n",
      "\n",
      "\n",
      "48) Building on the privacy &amp; security features discussed at io19, this week we're rolling out Incognito mode on Maps, Auto-delete in YouTube, simpler privacy controls, and even more protection for your passwords with a new Password Checkup feature.\n",
      "\n",
      "\n",
      "49) Thanks for all the Google 21st birthday wishes but more importantly, thank you to our users and partners for all your support. We will keep working hard to build a more helpful Google for everyone. \n",
      "\n",
      "50) Happy 5th birthday to Google Classroom! Thank you to all of the educators who have given us helpful feedback over the years, and to the 40 million teachers and students using Classroom around the world. \n",
      "\n",
      "\n",
      "51) Detecting deepfakes is one of the most important challenges ahead of us. Following our release of a synthetic audio dataset in Jan, we're releasing a large dataset of visual deepfakes to support researchers working on synthetic video detection GoogleAI\n",
      "\n",
      "\n",
      "52) Great discussion at our new digital skills hub hosted by Minister  with govt &amp; business leaders from across the Nordic region on the issues of technology, the future of work &amp; digital skills. Happy I also got to chat with some of the students in our trainings there! \n",
      "\n",
      "53) While in Finland, we also announced new details of our largest corporate purchase of renewable energy in history - nearly half of the megawatts produced will be in Europe and enable investments in the EU of more than €1 billion\n",
      "\n",
      "54)   Finland is a great example of how the internet can help drive economic growth, and we look forward to partnering with the Finnish government in the months and years ahead. Together, we can make sure everyone benefits from a strong and sustainable digital economy.\n",
      "\n",
      "55) We've been carbon neutral since 2007 and today, we're proud to share that Google is making our largest purchase of renewable energy ever. In all, our global portfolio of 52 renewable energy projects is driving $7B+ in new construction &amp; thousands of jobs. \n",
      "\n",
      "56) At GoogleForIndia today, we announced Google Research India - a new AI research team in Bangalore that will focus on advancing computer science &amp; applying AI research to solve big problems in healthcare, agriculture, education, and more. GoogleAI \n",
      "\n",
      "\n",
      "57) This National RecoveryMonth, we’ve launched a new site to share tools and resources on addiction treatment and recovery, including maps to help find relevant support in your community. \n",
      "\n",
      "58) Proud  has selected Google as its strategic partner on health innovation. We’re honored that  &amp; our technologies can help play a role as Mayo continues to advance medical research, virtual care &amp; disease treatment to save more lives.\n",
      "\n",
      "\n",
      "59) In April, we open-sourced MLIR, which enables machine learning models to be consistently represented &amp; executed on hardware. Today we’re contributing the project to the LLVM Foundation to further help the standardization &amp; advancement of ML globally. \n",
      "\n",
      "\n",
      "60) Excited to see the first Chromebook Enterprise devices on sale today, built in partnership with  and bringing the speed and security of Chrome OS to business users \n",
      "\n",
      "\n",
      "61) Quite the quote:) \n",
      "\n",
      "62) Starting today, our lightweight search app GoogleGo will be available globally on the  store. As demo'd at io19, Lens in GoogleGo can help translate and search the words you see around you, and even read them aloud.\n",
      "\n",
      "\n",
      "63) Inspiring to see such a breakthrough. +1 to research and science!\n",
      "\n",
      "\n",
      "\n",
      "64) Today at GoogleforNigeria, we announced Gallery Go - designed for those who don’t have a reliable internet connection, it brings many of the best  features on device to help you find, edit and manage your photos even when you’re offline\n",
      "\n",
      "\n",
      "65) Proud that  is partnering with _capital,  &amp;  to support veterans and military spouses at every stage of their transitions to tech \n",
      "\n",
      "\n",
      "66) : Holy mackerel, while my power is out... The Pixel 3a NightSight is truly amaze. It is super dark in here -- almost black…\n",
      "\n",
      "67) Margaret Hamilton led the team that developed the onboard flight software for all of NASA’s manned Apollo missions, including the historic Apollo11 moon landing. We’re honoring her contributions to Apollo &amp; software engineering with this moonlit tribute\n",
      "\n",
      " \n",
      "\n",
      "68) CodewithGoogle is our new initiative to expand access to computer science education with a focus on training, resources, and community for teachers: \n",
      "\n",
      "\n",
      "\n",
      "69) Congrats  on your wwc19 win! Epic tournament and so well-deserved ⭐⭐⭐⭐\n",
      "\n",
      "70) _rt As Mahi bhai would say, \"Bahut Badhiya\"😀😀Pleasure watching the game with you, brought back great memories, till next time 🏏\n",
      "\n",
      "71)  It was a real pleasure  to see you in action and thanks for having me!\n",
      "\n",
      "72)   Excited to welcome  to Cloud and look forward to working with you all!\n",
      "\n",
      "73) What an exciting match - great game  and congrats  on a huge win!\n",
      "\n",
      "74) Congrats , always admired your product focus and vision and wish you continued success! \n",
      "\n",
      "75) _Wiener  Thanks, _Wiener. We look forward to working with you on this.\n",
      "\n",
      "76)   Glad to do our part to support our future neighbors in San Jose\n",
      "\n",
      "77)    Thanks, Governor  - we look forward to working with you on this important initiative\n",
      "\n"
     ]
    }
   ],
   "source": [
    "# Print all of the positive tweets\n",
    "j=1\n",
    "sortedDF = df.sort_values(by=['Polarity'])\n",
    "for i in range(0, sortedDF.shape[0]):\n",
    "  if (sortedDF['Analysis'][i] == 'Positive'):\n",
    "    print(str(j) + ') '+sortedDF['Tweets'][i])\n",
    "    print()\n",
    "    j=j+1"
   ]
  },
  {
   "cell_type": "code",
   "execution_count": 15,
   "metadata": {
    "colab": {
     "base_uri": "https://localhost:8080/",
     "height": 221
    },
    "colab_type": "code",
    "executionInfo": {
     "elapsed": 1974,
     "status": "ok",
     "timestamp": 1582822841836,
     "user": {
      "displayName": "Suresh Kumar",
      "photoUrl": "https://lh3.googleusercontent.com/a-/AAuE7mA4r-fcT_txonnm4sBVF7IxyGMzQmG_Ywob_tDGsg=s64",
      "userId": "05747314006373099731"
     },
     "user_tz": -330
    },
    "id": "NSwebXFEk_m7",
    "outputId": "174cd187-1277-4ae4-82de-2692e6055a3c"
   },
   "outputs": [
    {
     "name": "stdout",
     "output_type": "stream",
     "text": [
      "1)Devastating to see the catastrophic bushfires in Australia - we’ve been working with emergency services to provide SOS alerts &amp; info on our crisis map, and  &amp; Googlers are donating to support relief efforts. \n",
      "\n",
      "\n",
      "2)This year, searches for heroes — both superheroes and everyday heroes — soared around the world. Thank you to all of the heroes who inspired us to go further and dream bigger in 2019.  \n",
      "\n",
      "3)We've joined 55+ other orgs and industry groups to support the STEM OPT program, another step in our efforts to advocate for comprehensive immigration reform in the U.S. \n",
      "\n",
      "4)US Army veteran Pete Damon is the guest artist behind today's GoogleDoodle. This VeteransDay, we join him in paying tribute to all of you who have served and sacrificed for our country.\n",
      "\n",
      "\n"
     ]
    }
   ],
   "source": [
    "# Print the negative tweets\n",
    "j=1\n",
    "sortedDF = df.sort_values(by=['Polarity'], ascending='False')\n",
    "for i in range(0, sortedDF.shape[0]):\n",
    "  if(sortedDF['Analysis'][i] == 'Negative'):\n",
    "    print(str(j) + ')' + sortedDF['Tweets'][i])\n",
    "    print()\n",
    "    j=j+1"
   ]
  },
  {
   "cell_type": "code",
   "execution_count": 16,
   "metadata": {
    "colab": {
     "base_uri": "https://localhost:8080/",
     "height": 441
    },
    "colab_type": "code",
    "executionInfo": {
     "elapsed": 4073,
     "status": "ok",
     "timestamp": 1582823477834,
     "user": {
      "displayName": "Suresh Kumar",
      "photoUrl": "https://lh3.googleusercontent.com/a-/AAuE7mA4r-fcT_txonnm4sBVF7IxyGMzQmG_Ywob_tDGsg=s64",
      "userId": "05747314006373099731"
     },
     "user_tz": -330
    },
    "id": "544IjKixnUIv",
    "outputId": "96420121-0fbb-4730-a406-dd80db7a72cd"
   },
   "outputs": [
    {
     "data": {
      "image/png": "[encoded data removed]",
      "text/plain": [
       "<Figure size 576x432 with 1 Axes>"
      ]
     },
     "metadata": {
      "needs_background": "light"
     },
     "output_type": "display_data"
    }
   ],
   "source": [
    "# Plot the polarity and subjectivity\n",
    "plt.figure(figsize=(8,6))\n",
    "for i in range(0, df.shape[0]):\n",
    "  plt.scatter(df['Polarity'][i], df['Subjectivity'][i], color= 'Red')\n",
    "plt.title('Sentiment Analysis')\n",
    "plt.xlabel('Polarity')\n",
    "plt.ylabel('Subjectivity')\n",
    "plt.show()"
   ]
  },
  {
   "cell_type": "code",
   "execution_count": 17,
   "metadata": {
    "colab": {
     "base_uri": "https://localhost:8080/",
     "height": 35
    },
    "colab_type": "code",
    "executionInfo": {
     "elapsed": 1681,
     "status": "ok",
     "timestamp": 1582824015856,
     "user": {
      "displayName": "Suresh Kumar",
      "photoUrl": "https://lh3.googleusercontent.com/a-/AAuE7mA4r-fcT_txonnm4sBVF7IxyGMzQmG_Ywob_tDGsg=s64",
      "userId": "05747314006373099731"
     },
     "user_tz": -330
    },
    "id": "yMC02mNspofO",
    "outputId": "7e7e0270-567c-4021-d710-f6e479d92cea"
   },
   "outputs": [
    {
     "data": {
      "text/plain": [
       "77.0"
      ]
     },
     "execution_count": 17,
     "metadata": {},
     "output_type": "execute_result"
    }
   ],
   "source": [
    "# Get the percentage of positive tweets\n",
    "ptweets = df[df.Analysis == 'Positive']\n",
    "ptweets = ptweets['Tweets']\n",
    "\n",
    "round((ptweets.shape[0] / df.shape[0]) * 100, 1)"
   ]
  },
  {
   "cell_type": "code",
   "execution_count": 18,
   "metadata": {
    "colab": {
     "base_uri": "https://localhost:8080/",
     "height": 35
    },
    "colab_type": "code",
    "executionInfo": {
     "elapsed": 1261,
     "status": "ok",
     "timestamp": 1582824145156,
     "user": {
      "displayName": "Suresh Kumar",
      "photoUrl": "https://lh3.googleusercontent.com/a-/AAuE7mA4r-fcT_txonnm4sBVF7IxyGMzQmG_Ywob_tDGsg=s64",
      "userId": "05747314006373099731"
     },
     "user_tz": -330
    },
    "id": "W72M9Aoqqg-7",
    "outputId": "b22c831c-01fb-4efd-877e-d6014c97d7a0"
   },
   "outputs": [
    {
     "data": {
      "text/plain": [
       "4.0"
      ]
     },
     "execution_count": 18,
     "metadata": {},
     "output_type": "execute_result"
    }
   ],
   "source": [
    "# Get the percentage of negative tweets\n",
    "ntweets = df[df.Analysis == 'Negative']\n",
    "ntweets = ntweets['Tweets']\n",
    "\n",
    "round((ntweets.shape[0] / df.shape[0]) * 100, 1)"
   ]
  },
  {
   "cell_type": "code",
   "execution_count": 19,
   "metadata": {
    "colab": {
     "base_uri": "https://localhost:8080/",
     "height": 35
    },
    "colab_type": "code",
    "executionInfo": {
     "elapsed": 1112,
     "status": "ok",
     "timestamp": 1582824325231,
     "user": {
      "displayName": "Suresh Kumar",
      "photoUrl": "https://lh3.googleusercontent.com/a-/AAuE7mA4r-fcT_txonnm4sBVF7IxyGMzQmG_Ywob_tDGsg=s64",
      "userId": "05747314006373099731"
     },
     "user_tz": -330
    },
    "id": "dsYfIHwYrHRb",
    "outputId": "d297db75-cc96-403b-8caf-2123a8339d14"
   },
   "outputs": [
    {
     "data": {
      "text/plain": [
       "19.0"
      ]
     },
     "execution_count": 19,
     "metadata": {},
     "output_type": "execute_result"
    }
   ],
   "source": [
    "# Get the percentage of neutral tweets\n",
    "nutweets = df[df.Analysis == 'Neutral']\n",
    "nutweets = nutweets['Tweets']\n",
    "\n",
    "round((nutweets.shape[0] / df.shape[0]) * 100,1)"
   ]
  },
  {
   "cell_type": "code",
   "execution_count": 20,
   "metadata": {
    "colab": {
     "base_uri": "https://localhost:8080/",
     "height": 374
    },
    "colab_type": "code",
    "executionInfo": {
     "elapsed": 1292,
     "status": "ok",
     "timestamp": 1582824813217,
     "user": {
      "displayName": "Suresh Kumar",
      "photoUrl": "https://lh3.googleusercontent.com/a-/AAuE7mA4r-fcT_txonnm4sBVF7IxyGMzQmG_Ywob_tDGsg=s64",
      "userId": "05747314006373099731"
     },
     "user_tz": -330
    },
    "id": "wAQPQtUfsOhg",
    "outputId": "337292c7-87c1-4533-d643-0ca1cb5ec592"
   },
   "outputs": [
    {
     "data": {
      "image/png": "[encoded data removed]",
      "text/plain": [
       "<Figure size 432x288 with 1 Axes>"
      ]
     },
     "metadata": {
      "needs_background": "light"
     },
     "output_type": "display_data"
    }
   ],
   "source": [
    "# Show the value counts\n",
    "\n",
    "df['Analysis'].value_counts()\n",
    "\n",
    "# Plot and visualize the count\n",
    "plt.title('Sentiment Analysis')\n",
    "plt.xlabel('Sentiment')\n",
    "plt.ylabel('Counts')\n",
    "df['Analysis'].value_counts().plot(kind='bar')\n",
    "plt.show()"
   ]
  },
  {
   "cell_type": "code",
   "execution_count": null,
   "metadata": {},
   "outputs": [],
   "source": []
  }
 ],
 "metadata": {
  "colab": {
   "authorship_tag": "ABX9TyMFn7lwcjE9p241hU39F9qI",
   "collapsed_sections": [],
   "name": "Twitter Analysis.ipynb",
   "provenance": []
  },
  "kernelspec": {
   "display_name": "Python 3",
   "language": "python",
   "name": "python3"
  },
  "language_info": {
   "codemirror_mode": {
    "name": "ipython",
    "version": 3
   },
   "file_extension": ".py",
   "mimetype": "text/x-python",
   "name": "python",
   "nbconvert_exporter": "python",
   "pygments_lexer": "ipython3",
   "version": "3.7.4"
  }
 },
 "nbformat": 4,
 "nbformat_minor": 1
}
